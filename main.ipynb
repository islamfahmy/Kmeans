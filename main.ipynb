{
 "cells": [
  {
   "cell_type": "code",
   "execution_count": 70,
   "metadata": {},
   "outputs": [],
   "source": [
    "import numpy as np\n",
    "import gzip\n",
    "from copy import deepcopy\n",
    "f = gzip.open('train-images-idx3-ubyte.gz','r')\n",
    "image_size = 28\n",
    "num_images = 10000\n",
    "f.read(16)\n",
    "buf = f.read(image_size * image_size * num_images)# read \n",
    "data = np.frombuffer(buf, dtype=np.uint8).astype(np.float32) \n",
    "data = data.reshape(num_images,image_size*image_size,1)# reshhape it to vector \n"
   ]
  },
  {
   "cell_type": "code",
   "execution_count": 71,
   "metadata": {},
   "outputs": [],
   "source": [
    "f = gzip.open('train-labels-idx1-ubyte.gz','r')# read labels\n",
    "f.read(8)\n",
    "nums=[]\n",
    "for i in range(0,num_images):   \n",
    "    buf = f.read(1)\n",
    "    nums.append(int(np.frombuffer(buf, dtype=np.uint8).astype(np.int64)[0]))"
   ]
  },
  {
   "cell_type": "code",
   "execution_count": 72,
   "metadata": {},
   "outputs": [],
   "source": [
    "def dist (x, centroid): # calculate distnce from single data to all centeroids\n",
    "    ret = []\n",
    "    for i in centroid :\n",
    "        ret.append(np.linalg.norm(x-i))\n",
    "    return ret\n",
    "\n",
    "def most_frequent(List): \n",
    "    return max(set(List), key = List.count) "
   ]
  },
  {
   "cell_type": "code",
   "execution_count": 73,
   "metadata": {},
   "outputs": [],
   "source": [
    "def get_closest(centroids) : # return the closest centeroid\n",
    "        return centroids.index(min(centroids))"
   ]
  },
  {
   "cell_type": "code",
   "execution_count": 74,
   "metadata": {},
   "outputs": [],
   "source": [
    "def initialize_centroids(data, num_clusters):# initialize centroids by using standard deviation to ensure it covers all samples\n",
    "        mean = np.mean(data, axis = 0)\n",
    "        std = np.std(data, axis = 0)\n",
    "        return np.random.randn(num_clusters,28*28,1)*std + mean"
   ]
  },
  {
   "cell_type": "code",
   "execution_count": 75,
   "metadata": {},
   "outputs": [],
   "source": [
    "centeroides =initialize_centroids(data,10) # init  with number of clusters"
   ]
  },
  {
   "cell_type": "code",
   "execution_count": 76,
   "metadata": {},
   "outputs": [
    {
     "name": "stdout",
     "output_type": "stream",
     "text": [
      "iteration number 1\n",
      "distortion = 24858627.68130875\n",
      "err =  6952.915167890959\n",
      "iteration number 2\n",
      "distortion = 21620094.80560903\n",
      "err =  243.23363175745533\n",
      "iteration number 3\n",
      "distortion = 21576365.43746342\n",
      "err =  108.23525340274487\n",
      "iteration number 4\n",
      "distortion = 21569041.099256184\n",
      "err =  75.94889666132804\n",
      "iteration number 5\n",
      "distortion = 21565588.00520476\n",
      "err =  63.271138941316345\n",
      "iteration number 6\n",
      "distortion = 21563416.044440076\n",
      "err =  52.89462960269917\n",
      "iteration number 7\n",
      "distortion = 21561879.44379959\n",
      "err =  48.78758289088459\n",
      "iteration number 8\n",
      "distortion = 21560691.44061169\n",
      "err =  40.70186936662626\n",
      "iteration number 9\n",
      "distortion = 21559846.83148187\n",
      "err =  37.98216786028442\n",
      "iteration number 10\n",
      "distortion = 21559185.544403855\n",
      "err =  31.732823023523604\n",
      "iteration number 11\n",
      "distortion = 21558722.67803418\n",
      "err =  27.363462371909538\n",
      "iteration number 12\n",
      "distortion = 21558370.15219748\n",
      "err =  25.04602778569768\n",
      "iteration number 13\n",
      "distortion = 21558079.895313513\n",
      "err =  22.42150928522605\n",
      "iteration number 14\n",
      "distortion = 21557846.091016605\n",
      "err =  20.722471690620498\n",
      "iteration number 15\n",
      "distortion = 21557651.65482093\n",
      "err =  20.33186918712832\n",
      "iteration number 16\n",
      "distortion = 21557472.06084121\n",
      "err =  17.697415160451495\n",
      "iteration number 17\n",
      "distortion = 21557326.550401513\n",
      "err =  16.14457920374584\n",
      "iteration number 18\n",
      "distortion = 21557197.386678487\n",
      "err =  17.16530840086002\n",
      "iteration number 19\n",
      "distortion = 21557063.148830235\n",
      "err =  16.37228327264406\n",
      "iteration number 20\n",
      "distortion = 21556954.28627039\n",
      "err =  14.671888348560023\n",
      "iteration number 21\n",
      "distortion = 21556863.933446035\n",
      "err =  14.461396190865528\n",
      "iteration number 22\n",
      "distortion = 21556783.978516273\n",
      "err =  12.67921509971995\n",
      "iteration number 23\n",
      "distortion = 21556722.69082571\n",
      "err =  11.70858457492211\n",
      "iteration number 24\n",
      "distortion = 21556674.875832565\n",
      "err =  11.164455716066168\n",
      "iteration number 25\n",
      "distortion = 21556629.382498182\n",
      "err =  11.102804250870012\n",
      "iteration number 26\n",
      "distortion = 21556588.674364425\n",
      "err =  9.697687517861471\n",
      "iteration number 27\n",
      "distortion = 21556549.3196766\n",
      "err =  9.86205901716379\n",
      "iteration number 28\n",
      "distortion = 21556510.57192684\n",
      "err =  9.49912006945446\n",
      "iteration number 29\n",
      "distortion = 21556475.801773954\n",
      "err =  8.306294130073667\n",
      "iteration number 30\n",
      "distortion = 21556445.250019632\n",
      "err =  10.080198354169749\n",
      "iteration number 31\n",
      "distortion = 21556409.23096248\n",
      "err =  10.152041947891252\n",
      "iteration number 32\n",
      "distortion = 21556375.25406123\n",
      "err =  7.200593617859307\n",
      "iteration number 33\n",
      "distortion = 21556355.796270058\n",
      "err =  5.689767378259451\n",
      "iteration number 34\n",
      "distortion = 21556339.377024993\n",
      "err =  6.971342201863916\n",
      "iteration number 35\n",
      "distortion = 21556320.387308843\n",
      "err =  5.929902535888393\n",
      "iteration number 36\n",
      "distortion = 21556303.823969122\n",
      "err =  5.204739529981821\n",
      "iteration number 37\n",
      "distortion = 21556290.13286523\n",
      "err =  4.897015816063527\n",
      "iteration number 38\n",
      "distortion = 21556277.206344467\n",
      "err =  5.0100036001839765\n",
      "iteration number 39\n",
      "distortion = 21556264.82851486\n",
      "err =  5.607577615599687\n",
      "iteration number 40\n",
      "distortion = 21556252.038926374\n",
      "err =  4.281655856205927\n",
      "iteration number 41\n",
      "distortion = 21556242.084665406\n",
      "err =  4.105881667023527\n",
      "iteration number 42\n",
      "distortion = 21556233.604921345\n",
      "err =  3.9145520926463435\n",
      "iteration number 43\n",
      "distortion = 21556225.79277111\n",
      "err =  3.682735689271811\n",
      "iteration number 44\n",
      "distortion = 21556218.920513317\n",
      "err =  3.0610118118272966\n",
      "iteration number 45\n",
      "distortion = 21556213.877679598\n",
      "err =  2.469819585984964\n",
      "iteration number 46\n",
      "distortion = 21556210.581378393\n",
      "err =  2.1440829654640203\n",
      "iteration number 47\n",
      "distortion = 21556207.98054458\n",
      "err =  2.1997283908354373\n",
      "iteration number 48\n",
      "distortion = 21556205.194190357\n",
      "err =  2.0573992223266666\n",
      "iteration number 49\n",
      "distortion = 21556202.581261713\n",
      "err =  2.058203877834743\n",
      "iteration number 50\n",
      "distortion = 21556200.681810364\n",
      "err =  2.1454198259731108\n"
     ]
    }
   ],
   "source": [
    "itr = 50  \n",
    "err = 0.001 # tolerance\n",
    "new_centeroides= deepcopy(centeroides)\n",
    "dist_plt = []\n",
    "val = [100000000]*len(centeroides)# to get closest image to centeroid \n",
    "rep = [None]*len(centeroides) \n",
    "distoration=0\n",
    "for kk in range(itr) :\n",
    "    dist_plt.append(distoration)\n",
    "    distoration=0 # init destortion\n",
    "    print(\"iteration number \" + str(kk+1))\n",
    "    distances =[None]*len(centeroides) # initialise distance\n",
    "    labels=[[None]]*len(centeroides)#keep labels for every centeroid\n",
    "    for i in range(len(centeroides)):\n",
    "        distances[i]=np.zeros((784,1)) \n",
    "        labels[i]=[-1]\n",
    "    for x in range(len(data)) : \n",
    "        temp= get_closest(dist(data[x], centeroides)) # the index of closest centeroid\n",
    "        temp = int(temp)\n",
    "        if(np.linalg.norm(data[x]- centeroides[temp])<val[temp]) : # check it it is closest to centeroid\n",
    "            val[temp]=np.linalg.norm(data[x]- centeroides[temp])\n",
    "            rep[temp]=data[x]\n",
    "        distances[temp]=np.append(distances[temp],data[x],axis=0) # add data \n",
    "        distoration +=np.linalg.norm(data[x]- centeroides[temp])\n",
    "        # calculate distortion\n",
    "        labels[temp].append(nums[x]) # put the label no in the labels\n",
    "    for i in range(len(centeroides)) :\n",
    "    #    print(np.mean(distances[i], axis=0))\n",
    "        new_centeroides[i]=(np.mean(distances[i])) # getting new centers\n",
    "        \n",
    "    #print(np.linalg.norm(new_centeroides - centeroides))\n",
    "    err =np.linalg.norm(new_centeroides - centeroides) # calculating error\n",
    "    if err <= 0.001 :\n",
    "        break  \n",
    "    print(\"distortion = \"+str(distoration))\n",
    "    print(\"err =  \" + str(err))\n",
    "    centeroides = deepcopy(new_centeroides) # assigning new centers\n",
    "for i in range (len(labels)) :\n",
    "    labels[i]=most_frequent(labels[i]) # after finishing labeling the centeroids for testing "
   ]
  },
  {
   "cell_type": "code",
   "execution_count": 77,
   "metadata": {},
   "outputs": [
    {
     "name": "stdout",
     "output_type": "stream",
     "text": [
      "739\n"
     ]
    }
   ],
   "source": [
    "import matplotlib.pyplot as plt\n",
    "import time \n",
    "image_size = 28\n",
    "num_images =10000\n",
    "z=gzip.open('t10k-images-idx3-ubyte.gz','r') # read test \n",
    "z.read(16)\n",
    "buf = z.read(image_size * image_size * num_images)\n",
    "data = np.frombuffer(buf, dtype=np.uint8).astype(np.float32)\n",
    "data = data.reshape(num_images,image_size*image_size,1)\n",
    "f = gzip.open('t10k-labels-idx1-ubyte.gz','r')\n",
    "f.read(8)\n",
    "cnt = 0 \n",
    "mis = 0 \n",
    "for x in data :\n",
    "     temp = get_closest(dist(x, centeroides)) # seeing closest centeroid \n",
    "     buf = f.read(1)\n",
    "     if int(np.frombuffer(buf, dtype=np.uint8).astype(np.int64)[0]) == temp : # testing \n",
    "        mis +=1 # wrong answer \n",
    "     cnt += 1\n",
    "print (mis) "
   ]
  },
  {
   "cell_type": "code",
   "execution_count": 79,
   "metadata": {},
   "outputs": [
    {
     "data": {
      "image/png": "[encoded data removed]",
      "text/plain": [
       "<Figure size 432x288 with 1 Axes>"
      ]
     },
     "metadata": {
      "needs_background": "light"
     },
     "output_type": "display_data"
    },
    {
     "data": {
      "image/png": "[encoded data removed]",
      "text/plain": [
       "<Figure size 432x288 with 1 Axes>"
      ]
     },
     "metadata": {
      "needs_background": "light"
     },
     "output_type": "display_data"
    },
    {
     "data": {
      "image/png": "[encoded data removed]",
      "text/plain": [
       "<Figure size 432x288 with 1 Axes>"
      ]
     },
     "metadata": {
      "needs_background": "light"
     },
     "output_type": "display_data"
    },
    {
     "data": {
      "image/png": "[encoded data removed]",
      "text/plain": [
       "<Figure size 432x288 with 1 Axes>"
      ]
     },
     "metadata": {
      "needs_background": "light"
     },
     "output_type": "display_data"
    },
    {
     "data": {
      "image/png": "[encoded data removed]",
      "text/plain": [
       "<Figure size 432x288 with 1 Axes>"
      ]
     },
     "metadata": {
      "needs_background": "light"
     },
     "output_type": "display_data"
    },
    {
     "data": {
      "image/png": "[encoded data removed]",
      "text/plain": [
       "<Figure size 432x288 with 1 Axes>"
      ]
     },
     "metadata": {
      "needs_background": "light"
     },
     "output_type": "display_data"
    },
    {
     "data": {
      "image/png": "[encoded data removed]",
      "text/plain": [
       "<Figure size 432x288 with 1 Axes>"
      ]
     },
     "metadata": {
      "needs_background": "light"
     },
     "output_type": "display_data"
    },
    {
     "data": {
      "image/png": "[encoded data removed]",
      "text/plain": [
       "<Figure size 432x288 with 1 Axes>"
      ]
     },
     "metadata": {
      "needs_background": "light"
     },
     "output_type": "display_data"
    },
    {
     "data": {
      "image/png": "[encoded data removed]",
      "text/plain": [
       "<Figure size 432x288 with 1 Axes>"
      ]
     },
     "metadata": {
      "needs_background": "light"
     },
     "output_type": "display_data"
    },
    {
     "data": {
      "image/png": "[encoded data removed]",
      "text/plain": [
       "<Figure size 432x288 with 1 Axes>"
      ]
     },
     "metadata": {
      "needs_background": "light"
     },
     "output_type": "display_data"
    }
   ],
   "source": [
    "cnt= 0 \n",
    "for x in rep :  # most represent image to each cluster \n",
    "     image = x.reshape(28,28,1).squeeze()\n",
    "     plt.imshow(image)\n",
    "     plt.show()"
   ]
  },
  {
   "cell_type": "code",
   "execution_count": 62,
   "metadata": {},
   "outputs": [
    {
     "data": {
      "image/png": "[encoded data removed]",
      "text/plain": [
       "<Figure size 432x288 with 1 Axes>"
      ]
     },
     "metadata": {
      "needs_background": "light"
     },
     "output_type": "display_data"
    }
   ],
   "source": [
    "import matplotlib.pyplot as plt\n",
    "plt.plot(dist_plt)\n",
    "# beautify the x-labels\n",
    "#plt.gcf().autofmt_xdate()\n",
    "\n",
    "plt.show()"
   ]
  },
  {
   "cell_type": "code",
   "execution_count": null,
   "metadata": {},
   "outputs": [],
   "source": [
    "for x in centeroides :  # mean image to each cluster \n",
    "     image = x.reshape(28,28,1).squeeze()\n",
    "     plt.imshow(image)\n",
    "     plt.show()"
   ]
  }
 ],
 "metadata": {
  "kernelspec": {
   "display_name": "Python 3",
   "language": "python",
   "name": "python3"
  },
  "language_info": {
   "codemirror_mode": {
    "name": "ipython",
    "version": 3
   },
   "file_extension": ".py",
   "mimetype": "text/x-python",
   "name": "python",
   "nbconvert_exporter": "python",
   "pygments_lexer": "ipython3",
   "version": "3.7.5"
  }
 },
 "nbformat": 4,
 "nbformat_minor": 4
}
