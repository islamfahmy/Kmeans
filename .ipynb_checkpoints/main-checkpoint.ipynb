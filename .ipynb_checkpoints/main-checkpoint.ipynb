{
 "cells": [
  {
   "cell_type": "code",
   "execution_count": 26,
   "metadata": {},
   "outputs": [],
   "source": [
    "import numpy as np\n",
    "import gzip\n",
    "from copy import deepcopy\n",
    "f = gzip.open('train-images-idx3-ubyte.gz','r')\n",
    "image_size = 28\n",
    "num_images = 2000\n",
    "f.read(16)\n",
    "buf = f.read(image_size * image_size * num_images)# read \n",
    "data = np.frombuffer(buf, dtype=np.uint8).astype(np.float32) \n",
    "data = data.reshape(num_images,image_size*image_size,1)# reshhape it to vector \n"
   ]
  },
  {
   "cell_type": "code",
   "execution_count": 27,
   "metadata": {},
   "outputs": [],
   "source": [
    "f = gzip.open('train-labels-idx1-ubyte.gz','r')# read labels\n",
    "f.read(8)\n",
    "nums=[]\n",
    "for i in range(0,num_images):   \n",
    "    buf = f.read(1)\n",
    "    nums.append(int(np.frombuffer(buf, dtype=np.uint8).astype(np.int64)[0]))"
   ]
  },
  {
   "cell_type": "code",
   "execution_count": 28,
   "metadata": {},
   "outputs": [],
   "source": [
    "def dist (x, centroid): # calculate distnce from single data to all centeroids\n",
    "    ret = []\n",
    "    for i in centroid :\n",
    "        ret.append(np.linalg.norm(x-i))\n",
    "    return ret\n",
    "\n",
    "def most_frequent(List): \n",
    "    return max(set(List), key = List.count) "
   ]
  },
  {
   "cell_type": "code",
   "execution_count": 29,
   "metadata": {},
   "outputs": [],
   "source": [
    "def get_closest(centroids) : # return the closest centeroid\n",
    "        return centroids.index(min(centroids))"
   ]
  },
  {
   "cell_type": "code",
   "execution_count": 30,
   "metadata": {},
   "outputs": [],
   "source": [
    "def initialize_centroids(data, num_clusters):# initialize centroids by using standard deviation to ensure it covers all samples\n",
    "        mean = np.mean(data, axis = 0)\n",
    "        std = np.std(data, axis = 0)\n",
    "        return np.random.randn(num_clusters,28*28,1)*std + mean"
   ]
  },
  {
   "cell_type": "code",
   "execution_count": 31,
   "metadata": {},
   "outputs": [],
   "source": [
    "centeroides =initialize_centroids(data,10) # init  with number of clusters"
   ]
  },
  {
   "cell_type": "code",
   "execution_count": 32,
   "metadata": {},
   "outputs": [
    {
     "name": "stdout",
     "output_type": "stream",
     "text": [
      "iteration number 1\n",
      "distortion = 4910956.692916487\n",
      "err =  6922.9647144598985\n",
      "iteration number 2\n",
      "distortion = 4315876.341732141\n",
      "err =  261.61094299787504\n",
      "iteration number 3\n",
      "distortion = 4302625.186092361\n",
      "err =  113.04687245726724\n",
      "iteration number 4\n",
      "distortion = 4300804.491825725\n",
      "err =  80.38245672173173\n",
      "iteration number 5\n",
      "distortion = 4299950.419158054\n",
      "err =  71.86432229496413\n",
      "iteration number 6\n",
      "distortion = 4299343.385527606\n",
      "err =  58.37122953209109\n",
      "iteration number 7\n",
      "distortion = 4298962.3034042865\n",
      "err =  45.12055447060242\n",
      "iteration number 8\n",
      "distortion = 4298740.773946422\n",
      "err =  40.68995421109988\n",
      "iteration number 9\n",
      "distortion = 4298560.533117407\n",
      "err =  37.35798543438702\n",
      "iteration number 10\n",
      "distortion = 4298417.239263169\n",
      "err =  34.81707235460247\n",
      "iteration number 11\n",
      "distortion = 4298300.815660844\n",
      "err =  26.973259771213023\n",
      "iteration number 12\n",
      "distortion = 4298231.17216434\n",
      "err =  22.725139270935866\n",
      "iteration number 13\n",
      "distortion = 4298181.718673871\n",
      "err =  21.500452026622717\n",
      "iteration number 14\n",
      "distortion = 4298141.311594657\n",
      "err =  17.535290801493083\n",
      "iteration number 15\n",
      "distortion = 4298114.164439523\n",
      "err =  17.883807885834823\n",
      "iteration number 16\n",
      "distortion = 4298087.625135228\n",
      "err =  14.806705880604245\n",
      "iteration number 17\n",
      "distortion = 4298068.524993321\n",
      "err =  12.852038723378195\n",
      "iteration number 18\n",
      "distortion = 4298052.628174459\n",
      "err =  12.24748850923692\n",
      "iteration number 19\n",
      "distortion = 4298041.055304705\n",
      "err =  10.13962701027166\n",
      "iteration number 20\n",
      "distortion = 4298030.756605706\n",
      "err =  9.536066781080734\n",
      "iteration number 21\n",
      "distortion = 4298021.11382337\n",
      "err =  9.252429218803382\n",
      "iteration number 22\n",
      "distortion = 4298011.781134742\n",
      "err =  8.336438138713373\n",
      "iteration number 23\n",
      "distortion = 4298003.152680498\n",
      "err =  8.050924083062892\n",
      "iteration number 24\n",
      "distortion = 4297995.717896041\n",
      "err =  8.361043916255626\n",
      "iteration number 25\n",
      "distortion = 4297988.243664304\n",
      "err =  10.507918538979553\n",
      "iteration number 26\n",
      "distortion = 4297975.406818631\n",
      "err =  11.500931248289747\n",
      "iteration number 27\n",
      "distortion = 4297962.24740907\n",
      "err =  12.00089104458724\n",
      "iteration number 28\n",
      "distortion = 4297950.264978481\n",
      "err =  9.318494733823629\n",
      "iteration number 29\n",
      "distortion = 4297943.586988046\n",
      "err =  10.874409573142454\n",
      "iteration number 30\n",
      "distortion = 4297938.027135825\n",
      "err =  8.859978519442492\n",
      "iteration number 31\n",
      "distortion = 4297934.381109216\n",
      "err =  7.497860676638111\n",
      "iteration number 32\n",
      "distortion = 4297933.111277995\n",
      "err =  5.796659566814633\n",
      "iteration number 33\n",
      "distortion = 4297932.35140395\n",
      "err =  6.600328559093595\n",
      "iteration number 34\n",
      "distortion = 4297931.811509988\n",
      "err =  6.515022429661893\n",
      "iteration number 35\n",
      "distortion = 4297932.432968888\n",
      "err =  4.288207704113658\n",
      "iteration number 36\n",
      "distortion = 4297933.267204737\n",
      "err =  2.2400924883989304\n",
      "iteration number 37\n",
      "distortion = 4297933.890508471\n",
      "err =  2.8457075852911364\n",
      "iteration number 38\n",
      "distortion = 4297934.683569118\n",
      "err =  2.34183164005501\n",
      "iteration number 39\n",
      "distortion = 4297935.478156541\n",
      "err =  1.146782052360925\n",
      "iteration number 40\n",
      "distortion = 4297935.768831349\n",
      "err =  1.32837684686764\n",
      "iteration number 41\n",
      "distortion = 4297936.246562045\n",
      "err =  0.9656966150804784\n",
      "iteration number 42\n",
      "distortion = 4297936.6679012235\n",
      "err =  0.647021880379261\n",
      "iteration number 43\n",
      "distortion = 4297936.993500353\n",
      "err =  1.0106483587903299\n",
      "iteration number 44\n",
      "distortion = 4297937.4608676825\n",
      "err =  0.6372286773228267\n",
      "iteration number 45\n",
      "distortion = 4297937.796002081\n",
      "err =  1.006120169628261\n",
      "iteration number 46\n",
      "distortion = 4297938.375054733\n",
      "err =  0.5121254677260956\n",
      "iteration number 47\n"
     ]
    }
   ],
   "source": [
    "itr = 50  \n",
    "err = 0.001 # tolerance\n",
    "new_centeroides= deepcopy(centeroides)\n",
    "dist_plt = []\n",
    "val = [100000000]*len(centeroides)# to get closest image to centeroid \n",
    "rep = [None]*len(centeroides) \n",
    "for kk in range(itr) :\n",
    "    distoration=0 # init destortion\n",
    "    print(\"iteration number \" + str(kk+1))\n",
    "    distances =[None]*len(centeroides) # initialise distance\n",
    "    labels=[[None]]*len(centeroides)#keep labels for every centeroid\n",
    "    for i in range(len(centeroides)):\n",
    "        distances[i]=np.zeros((784,1)) \n",
    "        labels[i]=[-1]\n",
    "    for x in range(len(data)) : \n",
    "        temp= get_closest(dist(data[x], centeroides)) # the index of closest centeroid\n",
    "        temp = int(temp)\n",
    "        if(np.linalg.norm(data[x]- centeroides[temp])<val[temp]) : # check it it is closest to centeroid\n",
    "            val[temp]=np.linalg.norm(data[x]- centeroides[temp])\n",
    "            rep[temp]=data[x]\n",
    "        distances[temp]=np.append(distances[temp],data[x],axis=0) # add data \n",
    "        distoration +=np.linalg.norm(data[x]- centeroides[temp])\n",
    "        dist_plt.append(distoration)\n",
    "        # calculate distortion\n",
    "        labels[temp].append(nums[x]) # put the label no in the labels\n",
    "    for i in range(len(centeroides)) :\n",
    "    #    print(np.mean(distances[i], axis=0))\n",
    "        new_centeroides[i]=(np.mean(distances[i])) # getting new centers\n",
    "        \n",
    "    #print(np.linalg.norm(new_centeroides - centeroides))\n",
    "    err =np.linalg.norm(new_centeroides - centeroides) # calculating error\n",
    "    if err <= 0.001 :\n",
    "        break  \n",
    "    print(\"distortion = \"+str(distoration))\n",
    "    print(\"err =  \" + str(err))\n",
    "    centeroides = deepcopy(new_centeroides) # assigning new centers\n",
    "for i in range (len(labels)) :\n",
    "    labels[i]=most_frequent(labels[i]) # after finishing labeling the centeroids for testing "
   ]
  },
  {
   "cell_type": "code",
   "execution_count": 22,
   "metadata": {},
   "outputs": [
    {
     "name": "stdout",
     "output_type": "stream",
     "text": [
      "759\n"
     ]
    }
   ],
   "source": [
    "import matplotlib.pyplot as plt\n",
    "import time \n",
    "image_size = 28\n",
    "num_images =10000\n",
    "z=gzip.open('t10k-images-idx3-ubyte.gz','r') # read test \n",
    "z.read(16)\n",
    "buf = z.read(image_size * image_size * num_images)\n",
    "data = np.frombuffer(buf, dtype=np.uint8).astype(np.float32)\n",
    "data = data.reshape(num_images,image_size*image_size,1)\n",
    "f = gzip.open('t10k-labels-idx1-ubyte.gz','r')\n",
    "f.read(8)\n",
    "cnt = 0 \n",
    "mis = 0 \n",
    "for x in data :\n",
    "     temp = get_closest(dist(x, centeroides)) # seeing closest centeroid \n",
    "     buf = f.read(1)\n",
    "     if int(np.frombuffer(buf, dtype=np.uint8).astype(np.int64)[0]) == temp : # testing \n",
    "        mis +=1 # wrong answer \n",
    "     cnt += 1\n",
    "print (mis) "
   ]
  },
  {
   "cell_type": "code",
   "execution_count": 33,
   "metadata": {},
   "outputs": [
    {
     "data": {
      "image/png": "[encoded data removed]",
      "text/plain": [
       "<Figure size 432x288 with 1 Axes>"
      ]
     },
     "metadata": {
      "needs_background": "light"
     },
     "output_type": "display_data"
    },
    {
     "data": {
      "image/png": "[encoded data removed]",
      "text/plain": [
       "<Figure size 432x288 with 1 Axes>"
      ]
     },
     "metadata": {
      "needs_background": "light"
     },
     "output_type": "display_data"
    },
    {
     "data": {
      "image/png": "[encoded data removed]",
      "text/plain": [
       "<Figure size 432x288 with 1 Axes>"
      ]
     },
     "metadata": {
      "needs_background": "light"
     },
     "output_type": "display_data"
    },
    {
     "data": {
      "image/png": "[encoded data removed]",
      "text/plain": [
       "<Figure size 432x288 with 1 Axes>"
      ]
     },
     "metadata": {
      "needs_background": "light"
     },
     "output_type": "display_data"
    },
    {
     "data": {
      "image/png": "[encoded data removed]",
      "text/plain": [
       "<Figure size 432x288 with 1 Axes>"
      ]
     },
     "metadata": {
      "needs_background": "light"
     },
     "output_type": "display_data"
    },
    {
     "data": {
      "image/png": "[encoded data removed]",
      "text/plain": [
       "<Figure size 432x288 with 1 Axes>"
      ]
     },
     "metadata": {
      "needs_background": "light"
     },
     "output_type": "display_data"
    },
    {
     "data": {
      "image/png": "[encoded data removed]",
      "text/plain": [
       "<Figure size 432x288 with 1 Axes>"
      ]
     },
     "metadata": {
      "needs_background": "light"
     },
     "output_type": "display_data"
    },
    {
     "data": {
      "image/png": "[encoded data removed]",
      "text/plain": [
       "<Figure size 432x288 with 1 Axes>"
      ]
     },
     "metadata": {
      "needs_background": "light"
     },
     "output_type": "display_data"
    },
    {
     "data": {
      "image/png": "[encoded data removed]",
      "text/plain": [
       "<Figure size 432x288 with 1 Axes>"
      ]
     },
     "metadata": {
      "needs_background": "light"
     },
     "output_type": "display_data"
    },
    {
     "data": {
      "image/png": "[encoded data removed]",
      "text/plain": [
       "<Figure size 432x288 with 1 Axes>"
      ]
     },
     "metadata": {
      "needs_background": "light"
     },
     "output_type": "display_data"
    }
   ],
   "source": [
    "cnt= 0 \n",
    "for x in rep :  # most represent image to each cluster \n",
    "     image = x.reshape(28,28,1).squeeze()\n",
    "     plt.imshow(image)\n",
    "     plt.show()"
   ]
  },
  {
   "cell_type": "code",
   "execution_count": 38,
   "metadata": {},
   "outputs": [
    {
     "data": {
      "image/png": "[encoded data removed]",
      "text/plain": [
       "<Figure size 432x288 with 1 Axes>"
      ]
     },
     "metadata": {
      "needs_background": "light"
     },
     "output_type": "display_data"
    },
    {
     "data": {
      "image/png": "[encoded data removed]",
      "text/plain": [
       "<Figure size 432x288 with 1 Axes>"
      ]
     },
     "metadata": {
      "needs_background": "light"
     },
     "output_type": "display_data"
    },
    {
     "data": {
      "image/png": "[encoded data removed]",
      "text/plain": [
       "<Figure size 432x288 with 1 Axes>"
      ]
     },
     "metadata": {
      "needs_background": "light"
     },
     "output_type": "display_data"
    },
    {
     "data": {
      "image/png": "[encoded data removed]",
      "text/plain": [
       "<Figure size 432x288 with 1 Axes>"
      ]
     },
     "metadata": {
      "needs_background": "light"
     },
     "output_type": "display_data"
    },
    {
     "data": {
      "image/png": "[encoded data removed]",
      "text/plain": [
       "<Figure size 432x288 with 1 Axes>"
      ]
     },
     "metadata": {
      "needs_background": "light"
     },
     "output_type": "display_data"
    }
   ],
   "source": [
    "import gzip\n",
    "f = gzip.open('train-images-idx3-ubyte.gz','r')\n",
    "\n",
    "image_size = 28\n",
    "num_images = 5\n",
    "\n",
    "import numpy as np\n",
    "f.read(16)\n",
    "buf = f.read(image_size * image_size * num_images)\n",
    "data = np.frombuffer(buf, dtype=np.uint8).astype(np.float32)\n",
    "data = data.reshape(num_images, image_size, image_size, 1)\n",
    "\n",
    "import matplotlib.pyplot as plt\n",
    "for i in range(num_images) :\n",
    "    image = np.asarray(data[i]).squeeze()\n",
    "    plt.imshow(image)\n",
    "    plt.show()"
   ]
  },
  {
   "cell_type": "code",
   "execution_count": null,
   "metadata": {},
   "outputs": [],
   "source": []
  }
 ],
 "metadata": {
  "kernelspec": {
   "display_name": "Python 3",
   "language": "python",
   "name": "python3"
  },
  "language_info": {
   "codemirror_mode": {
    "name": "ipython",
    "version": 3
   },
   "file_extension": ".py",
   "mimetype": "text/x-python",
   "name": "python",
   "nbconvert_exporter": "python",
   "pygments_lexer": "ipython3",
   "version": "3.7.5"
  }
 },
 "nbformat": 4,
 "nbformat_minor": 4
}
